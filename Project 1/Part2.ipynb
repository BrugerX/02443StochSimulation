{
 "cells": [
  {
   "cell_type": "code",
   "execution_count": null,
   "metadata": {
    "collapsed": true,
    "pycharm": {
     "name": "#%%\n"
    }
   },
   "outputs": [],
   "source": [
    "import numpy as np\n",
    "import matplotlib.pyplot as plt\n",
    "import scipy.stats as sstats\n",
    "import scipy as sp"
   ]
  },
  {
   "cell_type": "markdown",
   "source": [
    "#Task 1)\n",
    "\n",
    "The way we sample from continuous distribution is to have a 3D tuple, with\n",
    "\n",
    "$(X_{t_i),T_i,t_i)$ where $t_i$ is the time spent in state $X_i$ and $T_i$ is the time at which we enter state $X_i$.\n"
   ],
   "metadata": {
    "collapsed": false,
    "pycharm": {
     "name": "#%% md\n"
    }
   }
  },
  {
   "cell_type": "code",
   "execution_count": null,
   "outputs": [],
   "source": [
    "Q_cunt = np.array([\n",
    "    [-0.0085,0.005,0.0025,0,0.001],\n",
    "    [0,-0.014,0.005,0.004,0.005],\n",
    "    [0,0,-0.008,0.003,0.005],\n",
    "    [0,0,0,-0.009,0.009],\n",
    "    [0,0,0,0,0]])\n",
    "\n",
    "x_start = 0\n",
    "nrSamples = 10000\n",
    "\n",
    "\n",
    "def continuousMarkovSampling(nrSamples,Q,X_end = 4,x_start = 0):\n",
    "    CMC_samples = []\n",
    "\n",
    "    for i in range(nrSamples):\n",
    "        T = 0\n",
    "        Xi = x_start\n",
    "        sample = []\n",
    "\n",
    "        while(Xi != X_end):\n",
    "            P_current = Q[Xi]\n",
    "            t_sojourn = np.random.exponential(-1*(1/P_current[Xi]))\n",
    "            sample += [(Xi,T,t_sojourn)]\n",
    "            T += t_sojourn\n",
    "            #Pick the next state\n",
    "            Xi = np.random.choice([i for i in range(Xi+1,5)],p=-1*P_current[Xi+1:]/P_current[Xi])\n",
    "\n",
    "\n",
    "        #Add the last sample - makes data processing easier later\n",
    "        P_current = Q[Xi]\n",
    "        t_sojourn = np.exp(P_current[Xi])\n",
    "        sample += [(Xi,T,t_sojourn)]\n",
    "\n",
    "        CMC_samples += [sample]\n",
    "\n",
    "    return CMC_samples\n",
    "\n",
    "samples = continuousMarkovSampling(nrSamples,Q_cunt,4,0)"
   ],
   "metadata": {
    "collapsed": false,
    "pycharm": {
     "name": "#%%\n"
    }
   }
  },
  {
   "cell_type": "code",
   "execution_count": null,
   "outputs": [],
   "source": [
    "\n",
    "\n",
    "lifetimes = [sample[-1][1] for sample in samples]\n",
    "plt.hist(lifetimes,bins=100)"
   ],
   "metadata": {
    "collapsed": false,
    "pycharm": {
     "name": "#%%\n"
    }
   }
  },
  {
   "cell_type": "markdown",
   "source": [
    "Since we do not know the true standard deviation of our sample, we use the t-distribution to create a confidence interval.\n",
    "\n",
    "# TODO: Må vi bare gerne bruge t-test til std også?"
   ],
   "metadata": {
    "collapsed": false,
    "pycharm": {
     "name": "#%% md\n"
    }
   }
  },
  {
   "cell_type": "code",
   "execution_count": null,
   "outputs": [],
   "source": [
    "import scipy.stats as sstats\n",
    "\n",
    "X_bar = np.mean(lifetimes)\n",
    "sigma_bar =  1/(nrSamples-1)*np.sum((lifetimes-X_bar)**2)\n",
    "s = np.sqrt(sigma_bar)\n",
    "\n",
    "\n",
    "def t_conf(n,test_stat):\n",
    "    df = n - 1\n",
    "    t_constant = sstats.t.ppf(1-0.025,df)\n",
    "    return np.array([-1,1])*t_constant*(s/np.sqrt(df+1)) + test_stat\n",
    "\n",
    "\n",
    "\n",
    "\n",
    "print(f\"This is the C.I for the mean: {t_conf(len(lifetimes),X_bar)}\")\n",
    "print(f\"This is the C.I for the std: {t_conf(len(lifetimes),s)}\")"
   ],
   "metadata": {
    "collapsed": false,
    "pycharm": {
     "name": "#%%\n"
    }
   }
  },
  {
   "cell_type": "code",
   "execution_count": null,
   "outputs": [],
   "source": [
    "#Boolean: Stage 3 but less than death, (Time start + time sojourn) > 30.50\n",
    "cancer_dist_305 = [woman for woman in samples if len([T for (Xi,T,ti) in woman if ((Xi >= 2 and Xi<4) and ((T+ti)>=30.5))])>0]\n",
    "print(f\"Proportion of women who experience long distance cancer after the 30.5th month: {len(cancer_dist_305)/len(samples)}\")"
   ],
   "metadata": {
    "collapsed": false,
    "pycharm": {
     "name": "#%%\n"
    }
   }
  },
  {
   "cell_type": "markdown",
   "source": [
    "# Task 8\n",
    "\n",
    "We know the parameters of the distribution (Qs and p0), furthermore we get the theoretical CDF of the lifetime distribution.\n",
    "\n",
    "We therefore decide to do a Kolomogorov-Smirnov test, with a $\\alpha = 0.5$ level of significance.\n",
    "\n",
    "That is; We must have $D_n <= 1.358$ in order to not forkaste the hypothesis.\n",
    "\n",
    "# TODO: Hvorfor er det, at jo højere en confidence vi vil have, jo højere en critical value får vi? Altså K_{95}<=K_{97}"
   ],
   "metadata": {
    "collapsed": false,
    "pycharm": {
     "name": "#%% md\n"
    }
   }
  },
  {
   "cell_type": "code",
   "execution_count": null,
   "outputs": [],
   "source": [
    "Qs = Q_cunt[:4,:4]\n",
    "p0 = [1,0,0,0]\n",
    "F = lambda t: 1 - np.dot(p0,(sp.linalg.expm(Qs*t)@np.ones(4)))"
   ],
   "metadata": {
    "collapsed": false,
    "pycharm": {
     "name": "#%%\n"
    }
   }
  },
  {
   "cell_type": "code",
   "execution_count": null,
   "outputs": [],
   "source": [
    "(-np.array([1,0,0,0])@np.linalg.inv(Qs)).sum() #Real mean"
   ],
   "metadata": {
    "collapsed": false,
    "pycharm": {
     "name": "#%%\n"
    }
   }
  },
  {
   "cell_type": "code",
   "execution_count": null,
   "outputs": [],
   "source": [
    "F_e = lambda x: len(np.where(np.array(lifetimes) <= x)[0])/len(lifetimes)"
   ],
   "metadata": {
    "collapsed": false,
    "pycharm": {
     "name": "#%%\n"
    }
   }
  },
  {
   "cell_type": "code",
   "execution_count": null,
   "outputs": [],
   "source": [
    "Dn = np.max([np.abs(F_e(x) - F(x)) for x in lifetimes])\n",
    "n = len(lifetimes)\n",
    "Dn = (np.sqrt(n) + 0.12 + 0.11/np.sqrt(n))*Dn\n",
    "print(f\"We get that we accept the null hypothesis, that our samples follow the given phase distribution, due to the fact, that our test statistic is below the critical value of 1.358, specifically we get: {Dn}\")"
   ],
   "metadata": {
    "collapsed": false,
    "pycharm": {
     "name": "#%%\n"
    }
   }
  },
  {
   "cell_type": "markdown",
   "source": [
    "# Task 9\n",
    "\n",
    "We reuse the empirial CDF from before.\n",
    "\n",
    "Based solely off of the graph of the two survival functions, it does appear, that in general there is a higher probability of surviving using the preventative treatment. That is $P(T_{prev} \\geq x) \\geq P(T \\geq x)$.\n",
    "\n",
    "However, it doesn't tell the full story; It might be, that we cut the lives of those that live a short time shorter by some percentage, and extend the lives of those that live a long time by a higher percentage, resulting in an overall increase, but clearly not an absolute positive in the sense of saving lives."
   ],
   "metadata": {
    "collapsed": false,
    "pycharm": {
     "name": "#%% md\n"
    }
   }
  },
  {
   "cell_type": "code",
   "execution_count": null,
   "outputs": [],
   "source": [
    "N = len(lifetimes)\n",
    "d = lambda x,data: len(np.where(np.array(data) <= x)[0])\n",
    "S = lambda t,data: (len(data)-d(t,data))/len(data)"
   ],
   "metadata": {
    "collapsed": false,
    "pycharm": {
     "name": "#%%\n"
    }
   }
  },
  {
   "cell_type": "code",
   "execution_count": null,
   "outputs": [],
   "source": [
    "Q_prvnt = np.array([[0,0.0025,0.00125,0,0.001],\n",
    "          [0,0,0,0.002,0.005],\n",
    "          [0,0,0,0.003,0.005],\n",
    "          [0,0,0,0,0.009],\n",
    "          [0,0,0,0,0]])\n",
    "\n",
    "for i in range(5):\n",
    "    Q_prvnt[i][i] = -1*np.sum(Q_prvnt[i])\n",
    "\n",
    "print(Q_prvnt)\n",
    "\n",
    "samples_prvnt = continuousMarkovSampling(1000,Q_prvnt)\n",
    "samples_1000 = continuousMarkovSampling(1000,Q_cunt)\n",
    "\n",
    "lifetimes_prvnt = np.array([sample[-1][1] for sample in samples_prvnt])\n",
    "lifetimes_1000 = np.array([sample[-1][1] for sample in samples_1000])\n",
    "print(\"\")\n",
    "\n",
    "\n",
    "x_values_plot = np.linspace(0,1400,14000)\n",
    "\n",
    "[S(x,lifetimes_prvnt) for x in np.linspace(0,1400,14000)]\n",
    "plt.plot(x_values_plot,[S(x,lifetimes_prvnt) for x in x_values_plot],label=\"preventive survival\")\n",
    "plt.plot(x_values_plot,[S(x,lifetimes) for x in x_values_plot],label=\"non-preventive survival\")\n",
    "\n",
    "# Adding title and labels\n",
    "plt.title(\"Survival Curves\")\n",
    "plt.xlabel(\"Time\")\n",
    "plt.ylabel(\"Survival Probability\")\n",
    "\n",
    "# Adding legends\n",
    "plt.legend()"
   ],
   "metadata": {
    "collapsed": false,
    "pycharm": {
     "name": "#%%\n"
    }
   }
  },
  {
   "cell_type": "markdown",
   "source": [
    "# Task 10 Optional\n",
    "\n",
    "As I've understood it, what we end up with is a test statistic that can be delimited using a confidence interval based off of the standard normal distribution.\n",
    "\n",
    "We can then compare the confidence interval for the two treatments to see, if they overlap."
   ],
   "metadata": {
    "collapsed": false,
    "pycharm": {
     "name": "#%% md\n"
    }
   }
  },
  {
   "cell_type": "code",
   "execution_count": null,
   "outputs": [],
   "source": [
    "N_ij = lambda j,lifetime_data: len([lifetime for lifetime in lifetime_data if lifetime > j])\n",
    "O_ij = lambda _N,lifetime_data: len(lifetime_data) - _N"
   ],
   "metadata": {
    "collapsed": false,
    "pycharm": {
     "name": "#%%\n"
    }
   }
  },
  {
   "cell_type": "code",
   "execution_count": 446,
   "outputs": [
    {
     "name": "stderr",
     "output_type": "stream",
     "text": [
      "C:\\Users\\DripTooHard\\AppData\\Local\\Temp\\ipykernel_2684\\652315605.py:21: RuntimeWarning: divide by zero encountered in double_scalars\n",
      "  Zi += (Oij - Eij)/np.sqrt(Vij)\n",
      "C:\\Users\\DripTooHard\\AppData\\Local\\Temp\\ipykernel_2684\\652315605.py:21: RuntimeWarning: invalid value encountered in sqrt\n",
      "  Zi += (Oij - Eij)/np.sqrt(Vij)\n"
     ]
    }
   ],
   "source": [
    "s12 = [np.sort(lifetimes_prvnt),np.sort(lifetimes)]\n",
    "Z = []\n",
    "\n",
    "for i in range(2):\n",
    "    Zi = 0\n",
    "\n",
    "    for j in s12[i]:\n",
    "        Nij = N_ij(j,s12[i])\n",
    "        Nkj = N_ij(j,s12[i-1])\n",
    "        Nj = Nij + Nkj\n",
    "\n",
    "        Oij = O_ij(Nij,s12[i])\n",
    "        Okj = O_ij(Nkj,s12[i])\n",
    "        Oj = Oij + Okj\n",
    "\n",
    "\n",
    "\n",
    "        if(Nj >1):\n",
    "            Eij = Oj*(Nij/Nj)\n",
    "            Vij = Eij*((Nj-Oj)/Nj)*((Nj-Nij)/(Nj-1))\n",
    "            Zi += (Oij - Eij)/np.sqrt(Vij)\n",
    "\n",
    "    Z += [Zi]"
   ],
   "metadata": {
    "collapsed": false,
    "pycharm": {
     "name": "#%%\n"
    }
   }
  },
  {
   "cell_type": "code",
   "execution_count": 445,
   "outputs": [
    {
     "data": {
      "text/plain": "nan"
     },
     "execution_count": 445,
     "metadata": {},
     "output_type": "execute_result"
    }
   ],
   "source": [
    "Z[0]"
   ],
   "metadata": {
    "collapsed": false,
    "pycharm": {
     "name": "#%%\n"
    }
   }
  },
  {
   "cell_type": "code",
   "execution_count": null,
   "outputs": [],
   "source": [],
   "metadata": {
    "collapsed": false,
    "pycharm": {
     "name": "#%%\n"
    }
   }
  }
 ],
 "metadata": {
  "kernelspec": {
   "display_name": "Python 3",
   "language": "python",
   "name": "python3"
  },
  "language_info": {
   "codemirror_mode": {
    "name": "ipython",
    "version": 2
   },
   "file_extension": ".py",
   "mimetype": "text/x-python",
   "name": "python",
   "nbconvert_exporter": "python",
   "pygments_lexer": "ipython2",
   "version": "2.7.6"
  }
 },
 "nbformat": 4,
 "nbformat_minor": 0
}