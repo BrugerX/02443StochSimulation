{
 "cells": [
  {
   "cell_type": "code",
   "execution_count": 2,
   "outputs": [],
   "source": [
    "import numpy as np\n",
    "import matplotlib.pyplot as plt\n",
    "import scipy.stats as sstats\n",
    "import scipy as sp"
   ],
   "metadata": {
    "collapsed": false,
    "pycharm": {
     "name": "#%%\n"
    }
   }
  },
  {
   "cell_type": "code",
   "execution_count": 3,
   "outputs": [],
   "source": [
    "Q_cunt = np.array([\n",
    "    [-0.0085,0.005,0.0025,0,0.001],\n",
    "    [0,-0.014,0.005,0.004,0.005],\n",
    "    [0,0,-0.008,0.003,0.005],\n",
    "    [0,0,0,-0.009,0.009],\n",
    "    [0,0,0,0,0]])\n",
    "\n",
    "x_start = 0\n",
    "nrSamples = 1000\n",
    "\n",
    "\n",
    "def continuousMarkovSampling(nrSamples,Q,X_end = 4,x_start = 0):\n",
    "    CMC_samples = []\n",
    "\n",
    "    for i in range(nrSamples):\n",
    "        T = 0\n",
    "        Xi = x_start\n",
    "        sample = []\n",
    "\n",
    "        while(Xi != X_end):\n",
    "            P_current = Q[Xi]\n",
    "            t_sojourn = np.random.exponential(-1*(1/P_current[Xi]))\n",
    "            sample += [(Xi,T,t_sojourn)]\n",
    "            T += t_sojourn\n",
    "            #Pick the next state\n",
    "            Xi = np.random.choice([i for i in range(Xi+1,5)],p=-1*P_current[Xi+1:]/P_current[Xi])\n",
    "\n",
    "\n",
    "        #Add the last sample - makes data processing easier later\n",
    "        P_current = Q[Xi]\n",
    "        t_sojourn = np.exp(P_current[Xi])\n",
    "        sample += [(Xi,T,t_sojourn)]\n",
    "\n",
    "        CMC_samples += [sample]\n",
    "\n",
    "    return CMC_samples\n",
    "\n",
    "samples = continuousMarkovSampling(nrSamples,Q_cunt,4,0)"
   ],
   "metadata": {
    "collapsed": false,
    "pycharm": {
     "name": "#%%\n"
    }
   }
  },
  {
   "cell_type": "code",
   "execution_count": 4,
   "outputs": [],
   "source": [
    "def getX48(Q,X_48,x_start):\n",
    "    T = 0\n",
    "    Xi = x_start\n",
    "    sample = []\n",
    "\n",
    "    while(T<48 and not(Xi == 4)):\n",
    "        P_current = Q[Xi]\n",
    "        t_sojourn = np.random.exponential(-1*(1/P_current[Xi]))\n",
    "        sample += [(Xi,T,t_sojourn)]\n",
    "        T += t_sojourn\n",
    "        #Pick the next state\n",
    "        Xi = np.random.choice([i for i in range(Xi+1,5)],p=-1*P_current[Xi+1:]/P_current[Xi])\n",
    "\n",
    "    if(T<48):\n",
    "        sample += [(Xi,T,0)]\n",
    "\n",
    "    if(sample[-1][0] == X_48):\n",
    "        return sample\n",
    "    else:\n",
    "        return []"
   ],
   "metadata": {
    "collapsed": false,
    "pycharm": {
     "name": "#%%\n"
    }
   }
  },
  {
   "cell_type": "code",
   "execution_count": 5,
   "outputs": [],
   "source": [
    "def getCheckupTS(woman_life):\n",
    "    Y = []\n",
    "    i = 0\n",
    "    max_Ti = woman_life[-1][1]\n",
    "    alive = True\n",
    "    while(alive):\n",
    "        yi = i*48\n",
    "\n",
    "        if(yi >= max_Ti):\n",
    "            alive = False\n",
    "            Y += [woman_life[-1][0]]\n",
    "        else:\n",
    "            Y += [Xi for (Xi,Ti,ti) in woman_life if ((Ti<=yi) and ((Ti+ti)>=yi))]\n",
    "\n",
    "        i += 1\n",
    "\n",
    "    return Y\n"
   ],
   "metadata": {
    "collapsed": false,
    "pycharm": {
     "name": "#%%\n"
    }
   }
  },
  {
   "cell_type": "code",
   "execution_count": 6,
   "outputs": [],
   "source": [
    "checkups = [getCheckupTS(X) for X in samples]"
   ],
   "metadata": {
    "collapsed": false,
    "pycharm": {
     "name": "#%%\n"
    }
   }
  },
  {
   "cell_type": "markdown",
   "source": [
    "Based off of our histograms we get the feeling, that the overall process follows an exponential distribution.\n",
    "\n",
    "We therefore make the assumption, that the sojourn time is also exponentially distributed."
   ],
   "metadata": {
    "collapsed": false,
    "pycharm": {
     "name": "#%% md\n"
    }
   }
  },
  {
   "cell_type": "code",
   "execution_count": 28,
   "outputs": [
    {
     "data": {
      "text/plain": "array([[-0.03533661,  0.01914702,  0.00107135,  0.01488267,  0.00023557],\n       [ 0.        , -0.02144029,  0.00109367,  0.01250988,  0.00783673],\n       [ 0.        ,  0.        , -0.01404694,  0.01145887,  0.00258807],\n       [ 0.        ,  0.        ,  0.        , -0.03264828,  0.03264828],\n       [ 0.        ,  0.        ,  0.        ,  0.        ,  0.        ]])"
     },
     "execution_count": 28,
     "metadata": {},
     "output_type": "execute_result"
    }
   ],
   "source": [
    "# Initialize the Q matrix with zeros\n",
    "Q_est = np.zeros((5, 5))\n",
    "\n",
    "for i in range(5):\n",
    "    for j in range(i+1, 5):\n",
    "        #Q_est[i, j] = np.random.exponential(0.0001)\n",
    "        Q_est[i, j] = np.random.exponential(0.01)\n",
    "# Fill in the diagonal elements\n",
    "for i in range(4):\n",
    "    Q_est[i, i] = -np.sum(Q_est[i])\n",
    "\n",
    "# The last row remains as zeros\n",
    "Q_est[4, 4] = 0\n",
    "\n",
    "# Display the resulting matrix\n",
    "Q_est\n"
   ],
   "metadata": {
    "collapsed": false,
    "pycharm": {
     "name": "#%%\n"
    }
   }
  },
  {
   "cell_type": "code",
   "execution_count": 39,
   "outputs": [
    {
     "name": "stdout",
     "output_type": "stream",
     "text": [
      "[0.13110176960853157, 0.01192492601856214, 0.007662728822441956, 0.005690760074123705, 0.002931439622462938, 0.0029316451965397056, 0.0012778729812726204, 0.0018641847980552816, 0.0015861348947157077, 0.0013766916721863003, 0.001965276217991147, 0.002077762036810455, 0.002602312214316526, 0.0009111667877723003]\n"
     ]
    }
   ],
   "source": [
    "error = 1000000\n",
    "\n",
    "def getSimulatedTrajectories(checkups,Qk):\n",
    "\n",
    "    trajectories = []\n",
    "    for wi,w in enumerate(checkups):\n",
    "\n",
    "        traj_i = []\n",
    "        for i,Xi in enumerate(w):\n",
    "            sameEndResult = False\n",
    "            #print(f\"Attempting: {w[i-1]} -> {Xi}\")\n",
    "            if(i != 0):\n",
    "                sim_result = []\n",
    "                count_wrongs = 0\n",
    "                while(len(sim_result) == 0):\n",
    "                    count_wrongs += 1\n",
    "                    sim_result = getX48(Qk,Xi,w[i-1])\n",
    "                #print(f\"Took us this many attempts: {count_wrongs} to go from {w[i-1]} -> {Xi}\")\n",
    "                traj_i += sim_result\n",
    "\n",
    "        trajectories += [traj_i]\n",
    "\n",
    "    return trajectories\n",
    "\n",
    "\n",
    "def updateQk(trajectories):\n",
    "    Nij = np.zeros((5,5))\n",
    "    Si = np.zeros(5)\n",
    "    Q_k_1 = np.zeros((5,5))\n",
    "\n",
    "    for w in trajectories:\n",
    "        for idx,(Xi,Ti,ti) in enumerate(w):\n",
    "            if(Xi != 4):\n",
    "                X2 = w[idx + 1][0]\n",
    "                Nij[Xi][X2] += 1\n",
    "                Si[Xi] += np.minimum(48.0,ti)\n",
    "\n",
    "    for i in range(4):\n",
    "        Q_k_1[i] = Nij[i]/Si[i]\n",
    "\n",
    "    #Normalize\n",
    "    for i in range(4):\n",
    "        Q_k_1[i, i] = -np.sum(Q_k_1[i]) + Q_k_1[i,i]\n",
    "\n",
    "    return Q_k_1\n",
    "\n",
    "\n",
    "Qs = []\n",
    "err = []\n",
    "latest_err = 100\n",
    "Qk = Q_est\n",
    "while(latest_err > 10**(-3)):\n",
    "    trajectories = getSimulatedTrajectories(checkups,Qk)\n",
    "    Q_new = updateQk(trajectories)\n",
    "    Qs += [Q_new]\n",
    "    latest_err = np.sum(np.abs(Qk - Q_new))\n",
    "    err += [latest_err]\n",
    "    Qk = Q_new\n",
    "\n",
    "print(err)\n",
    "\n",
    "\n"
   ],
   "metadata": {
    "collapsed": false,
    "pycharm": {
     "name": "#%%\n"
    }
   }
  },
  {
   "cell_type": "code",
   "execution_count": 55,
   "outputs": [
    {
     "name": "stdout",
     "output_type": "stream",
     "text": [
      "Summed abs error: 18.800944098118052% and max error: 3.863751906456531% and mean error 0.9400472049059025%\n"
     ]
    }
   ],
   "source": [
    "Q_best = Qs[-1]\n",
    "Q_abs_diff = [np.abs(-Q_best[i]/Q_best[i][i] + Q_cunt[i]/Q_cunt[i][i]) for i in range(4)]\n",
    "\n",
    "print(f\"Summed abs error: {100*np.sum(Q_abs_diff)}% and max error: {np.max(Q_abs_diff)*100}% and mean error {100*np.mean(Q_abs_diff)}%\")\n"
   ],
   "metadata": {
    "collapsed": false,
    "pycharm": {
     "name": "#%%\n"
    }
   }
  },
  {
   "cell_type": "markdown",
   "source": [
    "#Task 13\n",
    "\n",
    "Thoughts:\n",
    "\n",
    "We see that we converge to the real Markov Chain very quickly, in fact our first guess has an absolute summed error of approx. 0.02 with a error of 0.005"
   ],
   "metadata": {
    "collapsed": false,
    "pycharm": {
     "name": "#%% md\n"
    }
   }
  }
 ],
 "metadata": {
  "kernelspec": {
   "display_name": "Python 3",
   "language": "python",
   "name": "python3"
  },
  "language_info": {
   "codemirror_mode": {
    "name": "ipython",
    "version": 2
   },
   "file_extension": ".py",
   "mimetype": "text/x-python",
   "name": "python",
   "nbconvert_exporter": "python",
   "pygments_lexer": "ipython2",
   "version": "2.7.6"
  }
 },
 "nbformat": 4,
 "nbformat_minor": 0
}