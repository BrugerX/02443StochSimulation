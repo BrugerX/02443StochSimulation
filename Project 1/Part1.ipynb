{
 "cells": [
  {
   "cell_type": "code",
   "execution_count": 2,
   "metadata": {
    "collapsed": true,
    "pycharm": {
     "name": "#%%\n"
    }
   },
   "outputs": [],
   "source": [
    "import numpy as np\n",
    "import matplotlib.pyplot as plt\n",
    "import scipy.stats as sstats"
   ]
  },
  {
   "cell_type": "markdown",
   "source": [
    "## Task 1)\n",
    "\n",
    "We have a conditional distribution $P(X_{n+1} = j|X_n = i} = P_{i,j}$ which is the i'th row and j'th column of the Markov chain's probability matrix.\n",
    "\n",
    "We simply use this to sample from as a multinomial distribution at each stage, which n = 1.\n",
    "\n",
    "If $P(X_{n+1} = 4|X_n = i}$ we terminate and start over, until we have run 1000 simulations."
   ],
   "metadata": {
    "collapsed": false,
    "pycharm": {
     "name": "#%% md\n"
    }
   }
  },
  {
   "cell_type": "code",
   "execution_count": 3,
   "outputs": [],
   "source": [
    "def samplesDiscMarkovMatrix(P,n,x_death = 4):\n",
    "    samples = []\n",
    "    for i in range(n):\n",
    "        x = 0\n",
    "        sample = []\n",
    "        while(x != x_death):\n",
    "            P_n = P[x]\n",
    "            x = np.random.choice([i for i in range(len(P_n))],p=P_n)\n",
    "            sample += [x]\n",
    "\n",
    "        samples += [sample]\n",
    "\n",
    "    return samples\n",
    "\n",
    "P_disc = np.array([[0.9915,0.005,0.0025,0,0.001],[0,0.986,0.005,0.004,0.005],[0,0,0.992,0.003,0.005],[0,0,0,0.991,0.009],[0,0,0,0,1]])\n",
    "\n",
    "#Get 1000 women's lifetimes\n",
    "women_1000 = samplesDiscMarkovMatrix(P_disc,1000)"
   ],
   "metadata": {
    "collapsed": false,
    "pycharm": {
     "name": "#%%\n"
    }
   }
  },
  {
   "cell_type": "code",
   "execution_count": 4,
   "outputs": [
    {
     "data": {
      "text/plain": "(array([19., 19., 15., 21., 23., 20., 28., 27., 31., 29., 27., 10., 28.,\n        31., 28., 24., 35., 19., 26., 30., 25., 24., 33., 19., 21., 17.,\n        10., 15., 22.,  8., 20., 18., 17., 14., 20., 19., 10., 14., 13.,\n        17., 11.,  5., 11.,  7.,  5.,  9., 10., 10.,  7.,  8.,  5.,  3.,\n         2.,  5.,  4.,  6.,  8.,  2.,  1.,  2.,  3.,  1.,  2.,  1.,  3.,\n         3.,  1.,  0.,  1.,  1.,  3.,  1.,  2.,  2.,  1.,  0.,  0.,  0.,\n         1.,  1.,  0.,  0.,  0.,  0.,  1.,  0.,  0.,  0.,  1.,  0.,  1.,\n         1.,  0.,  1.,  0.,  0.,  0.,  0.,  0.,  1.]),\n array([   4.  ,   15.06,   26.12,   37.18,   48.24,   59.3 ,   70.36,\n          81.42,   92.48,  103.54,  114.6 ,  125.66,  136.72,  147.78,\n         158.84,  169.9 ,  180.96,  192.02,  203.08,  214.14,  225.2 ,\n         236.26,  247.32,  258.38,  269.44,  280.5 ,  291.56,  302.62,\n         313.68,  324.74,  335.8 ,  346.86,  357.92,  368.98,  380.04,\n         391.1 ,  402.16,  413.22,  424.28,  435.34,  446.4 ,  457.46,\n         468.52,  479.58,  490.64,  501.7 ,  512.76,  523.82,  534.88,\n         545.94,  557.  ,  568.06,  579.12,  590.18,  601.24,  612.3 ,\n         623.36,  634.42,  645.48,  656.54,  667.6 ,  678.66,  689.72,\n         700.78,  711.84,  722.9 ,  733.96,  745.02,  756.08,  767.14,\n         778.2 ,  789.26,  800.32,  811.38,  822.44,  833.5 ,  844.56,\n         855.62,  866.68,  877.74,  888.8 ,  899.86,  910.92,  921.98,\n         933.04,  944.1 ,  955.16,  966.22,  977.28,  988.34,  999.4 ,\n        1010.46, 1021.52, 1032.58, 1043.64, 1054.7 , 1065.76, 1076.82,\n        1087.88, 1098.94, 1110.  ]),\n <BarContainer object of 100 artists>)"
     },
     "execution_count": 4,
     "metadata": {},
     "output_type": "execute_result"
    },
    {
     "data": {
      "text/plain": "<Figure size 640x480 with 1 Axes>",
      "image/png": "[encoded data removed]"
     },
     "metadata": {},
     "output_type": "display_data"
    }
   ],
   "source": [
    "T_count_e = [len(lifetime) for lifetime in women_1000]\n",
    "plt.hist(T_count_e,bins=100)"
   ],
   "metadata": {
    "collapsed": false,
    "pycharm": {
     "name": "#%%\n"
    }
   }
  },
  {
   "cell_type": "code",
   "execution_count": 5,
   "outputs": [
    {
     "name": "stdout",
     "output_type": "stream",
     "text": [
      "Approximately 58.199999999999996% of the women reach stage 2, that is, have cancer again locally\n"
     ]
    }
   ],
   "source": [
    "proportion_reappear = [1 in lifetime for lifetime in women_1000].count(True)/len(women_1000)\n",
    "print(f\"Approximately {proportion_reappear*100}% of the women reach stage 2, that is, have cancer again locally\")"
   ],
   "metadata": {
    "collapsed": false,
    "pycharm": {
     "name": "#%%\n"
    }
   }
  },
  {
   "cell_type": "code",
   "execution_count": 6,
   "outputs": [],
   "source": [
    "\n",
    "def getPt(P,t):\n",
    "    P_n = P\n",
    "    for x in range(t):\n",
    "     P_n = P_n@P\n",
    "    return P_n"
   ],
   "metadata": {
    "collapsed": false,
    "pycharm": {
     "name": "#%%\n"
    }
   }
  },
  {
   "cell_type": "markdown",
   "source": [
    "# Task 2\n",
    "\n",
    "We first find the emprical distribution at t = 120."
   ],
   "metadata": {
    "collapsed": false,
    "pycharm": {
     "name": "#%% md\n"
    }
   }
  },
  {
   "cell_type": "code",
   "execution_count": 7,
   "outputs": [],
   "source": [
    "t = 120\n",
    "t_count = [lifetime[120] for lifetime in women_1000 if len(lifetime)>=(t+1) and lifetime[120] != 4]\n",
    "\n",
    "#We add those that died - R.I.P Pour one out\n",
    "t_count += [4 for x in range(len(women_1000) - len(t_count))]\n",
    "t_dist = np.unique(t_count,return_counts=True)[1]/len(t_count)\n",
    "\n",
    "#Get the P_t\n",
    "P_t = getPt(P_disc,t)"
   ],
   "metadata": {
    "collapsed": false,
    "pycharm": {
     "name": "#%%\n"
    }
   }
  },
  {
   "cell_type": "code",
   "execution_count": 8,
   "outputs": [
    {
     "data": {
      "text/plain": "Power_divergenceResult(statistic=0.5786094818274181, pvalue=0.965410742444172)"
     },
     "execution_count": 8,
     "metadata": {},
     "output_type": "execute_result"
    }
   ],
   "source": [
    "sstats.chisquare(np.unique(t_count,return_counts=True)[1],P_t[0]*len(t_count))"
   ],
   "metadata": {
    "collapsed": false,
    "pycharm": {
     "name": "#%%\n"
    }
   }
  },
  {
   "cell_type": "code",
   "execution_count": 9,
   "outputs": [
    {
     "name": "stdout",
     "output_type": "stream",
     "text": [
      "[0.35597454 0.15852579 0.16645055 0.06826591 0.25078322]\n",
      "[0.361 0.162 0.165 0.063 0.249]\n"
     ]
    },
    {
     "data": {
      "text/plain": "(array([361.,   0., 162.,   0.,   0., 165.,   0.,  63.,   0., 249.]),\n array([0. , 0.4, 0.8, 1.2, 1.6, 2. , 2.4, 2.8, 3.2, 3.6, 4. ]),\n <BarContainer object of 10 artists>)"
     },
     "execution_count": 9,
     "metadata": {},
     "output_type": "execute_result"
    },
    {
     "data": {
      "text/plain": "<Figure size 640x480 with 1 Axes>",
      "image/png": "[encoded data removed]"
     },
     "metadata": {},
     "output_type": "display_data"
    }
   ],
   "source": [
    "print(P_t[0])\n",
    "print(t_dist)\n",
    "plt.hist(t_count)\n"
   ],
   "metadata": {
    "collapsed": false,
    "pycharm": {
     "name": "#%%\n"
    }
   }
  },
  {
   "cell_type": "code",
   "execution_count": 10,
   "outputs": [],
   "source": [
    "pi = P_disc[0,:4]\n",
    "Ps = P_disc[:4,:4]\n",
    "ps = P_disc[:4,4]\n",
    "\n",
    "T = lambda t: pi@np.linalg.matrix_power(Ps,t)@ps\n",
    "E_T = np.sum(pi@np.linalg.inv((np.identity(4)-Ps)))"
   ],
   "metadata": {
    "collapsed": false,
    "pycharm": {
     "name": "#%%\n"
    }
   }
  },
  {
   "cell_type": "markdown",
   "source": [
    "We do a Kolmogorov-Smirnov test to see, if the two distributions are the same.\n",
    "\n",
    "Furthermore, we compare our analytical mean with the bootstrapped estimate of our sampled distribution's mean. We also print the MSE of our mean estimate. However, the mean doesn't tell us anything without the KS test, as we can have the same mean but completely different distributions."
   ],
   "metadata": {
    "collapsed": false,
    "pycharm": {
     "name": "#%% md\n"
    }
   }
  },
  {
   "cell_type": "code",
   "execution_count": 11,
   "outputs": [
    {
     "name": "stdout",
     "output_type": "stream",
     "text": [
      "This is the expectation of the MSE of our expectation estimates: 33.774704724492 and this is the mean of our mean estimates: 266.125734.\n",
      "Finally, this is the absolute difference between our estimated mean and the analytical, divided by the MSE: 0.14075974093592877\n"
     ]
    }
   ],
   "source": [
    "def bootStrap(data_vector):\n",
    "    U_disc = np.random.randint(0,len(data_vector),len(data_vector))\n",
    "    return [data_vector[u] for u in U_disc]\n",
    "\n",
    "n = len(T_count_e)\n",
    "X_i = T_count_e\n",
    "X_bar = []\n",
    "MSE_sample = []\n",
    "\n",
    "for r in range(1000):\n",
    "    X_sample = bootStrap(X_i)\n",
    "    X_bar += [np.mean(X_sample)]\n",
    "    MSE_sample += [np.sum((np.array(X_sample) - np.mean(X_sample))**2)/n**2]\n",
    "\n",
    "\n",
    "mu = np.mean(X_bar)\n",
    "print(f\"This is the expectation of the MSE of our expectation estimates: {np.mean(MSE_sample)} \"\n",
    "      f\"and this is the mean of our mean estimates: {mu}.\\n\"\n",
    "      f\"Finally, this is the absolute difference between our estimated mean and the analytical, divided by the MSE: {np.abs(mu-E_T)/np.mean(MSE_sample)}\")\n"
   ],
   "metadata": {
    "collapsed": false,
    "pycharm": {
     "name": "#%%\n"
    }
   }
  },
  {
   "cell_type": "markdown",
   "source": [
    "# Task 4\n",
    "\n",
    "Computers are super fast, it would take longer to make a method that specifically ensures we only get those that survive 12 months but also get cancer.\n",
    "\n",
    "Instead, we just sample a very high number and take the first 1000 of those, that fulfill the criteria."
   ],
   "metadata": {
    "collapsed": false,
    "pycharm": {
     "name": "#%% md\n"
    }
   }
  },
  {
   "cell_type": "code",
   "execution_count": 12,
   "outputs": [
    {
     "ename": "NameError",
     "evalue": "name 'women_100000' is not defined",
     "output_type": "error",
     "traceback": [
      "\u001B[1;31m---------------------------------------------------------------------------\u001B[0m",
      "\u001B[1;31mNameError\u001B[0m                                 Traceback (most recent call last)",
      "Cell \u001B[1;32mIn[12], line 4\u001B[0m\n\u001B[0;32m      1\u001B[0m \u001B[38;5;66;03m#women_100000 = samplesDiscMarkovMatrix(P_disc,100000)\u001B[39;00m\n\u001B[0;32m      2\u001B[0m \n\u001B[0;32m      3\u001B[0m \u001B[38;5;66;03m#First those, that died within the first 12 months\u001B[39;00m\n\u001B[1;32m----> 4\u001B[0m women_12 \u001B[38;5;241m=\u001B[39m [woman \u001B[38;5;28;01mfor\u001B[39;00m woman \u001B[38;5;129;01min\u001B[39;00m \u001B[43mwomen_100000\u001B[49m \u001B[38;5;28;01mif\u001B[39;00m \u001B[38;5;28mlen\u001B[39m(woman)\u001B[38;5;241m>\u001B[39m\u001B[38;5;241m11\u001B[39m \u001B[38;5;129;01mand\u001B[39;00m (\u001B[38;5;241m1\u001B[39m \u001B[38;5;129;01min\u001B[39;00m woman[:\u001B[38;5;241m12\u001B[39m] \u001B[38;5;129;01mor\u001B[39;00m \u001B[38;5;241m2\u001B[39m \u001B[38;5;129;01min\u001B[39;00m woman[:\u001B[38;5;241m12\u001B[39m] \u001B[38;5;129;01mor\u001B[39;00m \u001B[38;5;241m3\u001B[39m \u001B[38;5;129;01min\u001B[39;00m woman[:\u001B[38;5;241m12\u001B[39m])]\n\u001B[0;32m      6\u001B[0m T_count_e12  \u001B[38;5;241m=\u001B[39m [\u001B[38;5;28mlen\u001B[39m(lifetime) \u001B[38;5;28;01mfor\u001B[39;00m lifetime \u001B[38;5;129;01min\u001B[39;00m women_12]\n\u001B[0;32m      7\u001B[0m \u001B[38;5;28mprint\u001B[39m(\u001B[38;5;124mf\u001B[39m\u001B[38;5;124m\"\u001B[39m\u001B[38;5;124mThe estimated expected lifetime: \u001B[39m\u001B[38;5;132;01m{\u001B[39;00mnp\u001B[38;5;241m.\u001B[39mmean(T_count_e12)\u001B[38;5;132;01m}\u001B[39;00m\u001B[38;5;124m\"\u001B[39m)\n",
      "\u001B[1;31mNameError\u001B[0m: name 'women_100000' is not defined"
     ]
    }
   ],
   "source": [
    "#women_100000 = samplesDiscMarkovMatrix(P_disc,100000)\n",
    "\n",
    "#First those, that died within the first 12 months\n",
    "women_12 = [woman for woman in women_100000 if len(woman)>11 and (1 in woman[:12] or 2 in woman[:12] or 3 in woman[:12])]\n",
    "\n",
    "T_count_e12  = [len(lifetime) for lifetime in women_12]\n",
    "print(f\"The estimated expected lifetime: {np.mean(T_count_e12)}\")"
   ],
   "metadata": {
    "collapsed": false,
    "pycharm": {
     "name": "#%%\n"
    }
   }
  },
  {
   "cell_type": "markdown",
   "source": [
    "# Task 5\n"
   ],
   "metadata": {
    "collapsed": false,
    "pycharm": {
     "name": "#%% md\n"
    }
   }
  },
  {
   "cell_type": "code",
   "execution_count": 13,
   "outputs": [
    {
     "name": "stdout",
     "output_type": "stream",
     "text": [
      "Mean expected fraction of womean who die within the first 350 months: 0.7392500000000001 \t - based off of crude MC estimation for 200 samples\n"
     ]
    }
   ],
   "source": [
    "task5_prop_samples = []\n",
    "\n",
    "for _ in range(100):\n",
    "    T_sample = [len(lifetime) for lifetime in samplesDiscMarkovMatrix(P_disc,200) if len(lifetime)<=350]\n",
    "    task5_prop_samples += [len(T_sample)/200]\n",
    "\n",
    "print(f\"Mean expected fraction of womean who die within the first 350 months: {np.mean(task5_prop_samples)} \\t - based off of crude MC estimation for 200 samples\")"
   ],
   "metadata": {
    "collapsed": false,
    "pycharm": {
     "name": "#%%\n"
    }
   }
  },
  {
   "cell_type": "markdown",
   "source": [
    "Let the parameter we wish to estimate be $E[D]$ where\n",
    "\n",
    "E[D] = $ \\frac{1}{200} \\sum_{i=1}^{200} D_i$, where $D_i$ are the fraction of women who die within the first 350 months for the i'th run of the simulation.\n",
    "And E[D] then is the expected number of women who die within the first 350 months.\n",
    "\n",
    "If we choose our control variate to be $\\bar{T}$ then $\\mu_{\\bar{T}} = E[\\bar{T}] = E[T]$.\n",
    "\n",
    "We can then construct our new estimator for our parameter $E[Z] \\approx E[D]$, where\n",
    "$Z = D + c*(\\bar{T} - E[T])$, where c is:\n",
    "\n",
    "$c = \\frac{-1*Cov(D,\\bar{T})}{Var[\\bar{T}]}$\n",
    "\n",
    "We will not try to estimate the covariance analytically, instead we will just do it empirically."
   ],
   "metadata": {
    "collapsed": false,
    "pycharm": {
     "name": "#%% md\n"
    }
   }
  },
  {
   "cell_type": "code",
   "execution_count": 20,
   "outputs": [
    {
     "name": "stdout",
     "output_type": "stream",
     "text": [
      "Using our control variate resulted in a factor of 3.3428536580329298 estimated reduction of variance.With an estimated mortality before the 350th month after surgery of 0.7405093824686361\n"
     ]
    }
   ],
   "source": [
    "Zs = []\n",
    "Ds = []\n",
    "T_bars = []\n",
    "\n",
    "for _ in range(100):\n",
    "    lifetimes = [len(lifetime) for lifetime in samplesDiscMarkovMatrix(P_disc,200)]\n",
    "    Ds += [len([lifetime for lifetime in lifetimes if lifetime<=350])/200]\n",
    "    T_bars += [np.mean(lifetimes)]\n",
    "\n",
    "#Calculate c\n",
    "c = -1*np.cov(Ds,T_bars)[1,0]/np.var(T_bars)\n",
    "\n",
    "Z = np.array(Ds) + c*(np.array(T_bars) - E_T)\n",
    "print(f\"Using our control variate resulted in a factor of {np.var(task5_prop_samples)/np.var(Z)} estimated reduction of variance. \"\n",
    "      f\"With an estimated mortality rate before the 350th month after surgery of {np.mean(Z)}\")"
   ],
   "metadata": {
    "collapsed": false,
    "pycharm": {
     "name": "#%%\n"
    }
   }
  }
 ],
 "metadata": {
  "kernelspec": {
   "display_name": "Python 3",
   "language": "python",
   "name": "python3"
  },
  "language_info": {
   "codemirror_mode": {
    "name": "ipython",
    "version": 2
   },
   "file_extension": ".py",
   "mimetype": "text/x-python",
   "name": "python",
   "nbconvert_exporter": "python",
   "pygments_lexer": "ipython2",
   "version": "2.7.6"
  }
 },
 "nbformat": 4,
 "nbformat_minor": 0
}