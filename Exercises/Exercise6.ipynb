{
 "cells": [
  {
   "cell_type": "code",
   "execution_count": 2,
   "metadata": {
    "collapsed": true,
    "pycharm": {
     "name": "#%%\n"
    }
   },
   "outputs": [],
   "source": [
    "import numpy as np\n",
    "import matplotlib.pyplot as plt\n",
    "import RNG.Distributions as dst\n",
    "import math\n",
    "import scipy.stats as sstats"
   ]
  },
  {
   "cell_type": "markdown",
   "source": [
    "## Exercise 6 Task 1)\n",
    "\n"
   ],
   "metadata": {
    "collapsed": false,
    "pycharm": {
     "name": "#%% md\n"
    }
   }
  },
  {
   "cell_type": "code",
   "execution_count": 12,
   "outputs": [],
   "source": [
    "def truncatePoiss(A,i):\n",
    "    return (A**i)/math.factorial(i)\n",
    "\n",
    "def norm(i,mu,sigma2):\n",
    "    return np.exp(-1*(i-mu)**2/(2*sigma2))\n",
    "\n",
    "\n",
    "samples = []\n",
    "n_warmup = 100\n",
    "n_samples = 1000\n",
    "x = 0\n",
    "m = 11\n",
    "A = 8.0\n",
    "\n",
    "hxy_s = lambda x: np.random.uniform(-100,100)\n",
    "hxy = lambda x,y: 1\n",
    "g = lambda i: norm(i,0,1)\n",
    "\n",
    "\n",
    "P_is = np.array([g(i) for i in range(m)])\n",
    "P_is = P_is\n",
    "\n",
    "\n",
    "def MetropolisHastings(n_samples,g,hxy,hxy_sampler, x_start = 0):\n",
    "    samples = []\n",
    "    x = x_start\n",
    "    for _ in range(n_samples):\n",
    "        y  = hxy_sampler(x)\n",
    "        P_x = g(x)\n",
    "        P_y = g(y)\n",
    "        P_xy = hxy(x,y)\n",
    "        P_yx = hxy(y,x)\n",
    "\n",
    "        if (np.random.uniform(0,1)<min(1,(P_y*P_yx)/(P_x*P_xy))):\n",
    "            x = y\n",
    "\n",
    "        samples += [x]\n",
    "\n",
    "    return samples\n",
    "\n",
    "\n",
    "\n",
    "\n",
    "samples = MetropolisHastings(1000000, g, hxy, hxy_s)\n"
   ],
   "metadata": {
    "collapsed": false,
    "pycharm": {
     "name": "#%%\n"
    }
   }
  },
  {
   "cell_type": "code",
   "execution_count": 15,
   "outputs": [
    {
     "name": "stdout",
     "output_type": "stream",
     "text": [
      "This is the expectation of our MSE: 9.986589415663484e-07\n"
     ]
    },
    {
     "ename": "AttributeError",
     "evalue": "'list' object has no attribute 'sum'",
     "output_type": "error",
     "traceback": [
      "\u001B[1;31m---------------------------------------------------------------------------\u001B[0m",
      "\u001B[1;31mAttributeError\u001B[0m                            Traceback (most recent call last)",
      "Cell \u001B[1;32mIn[15], line 20\u001B[0m\n\u001B[0;32m     16\u001B[0m mu \u001B[38;5;241m=\u001B[39m np\u001B[38;5;241m.\u001B[39mmean(X_bar)\n\u001B[0;32m     17\u001B[0m \u001B[38;5;28mprint\u001B[39m(\u001B[38;5;124mf\u001B[39m\u001B[38;5;124m\"\u001B[39m\u001B[38;5;124mThis is the expectation of our MSE: \u001B[39m\u001B[38;5;132;01m{\u001B[39;00mnp\u001B[38;5;241m.\u001B[39mmean(MSE_sample)\u001B[38;5;132;01m}\u001B[39;00m\u001B[38;5;124m\"\u001B[39m)\n\u001B[1;32m---> 20\u001B[0m X \u001B[38;5;241m=\u001B[39m (\u001B[43mX_i\u001B[49m\u001B[38;5;241;43m.\u001B[39;49m\u001B[43msum\u001B[49m()\u001B[38;5;241m/\u001B[39mn \u001B[38;5;241m-\u001B[39m mu)\n\u001B[0;32m     21\u001B[0m p \u001B[38;5;241m=\u001B[39m ((X\u001B[38;5;241m>\u001B[39m\u001B[38;5;241m-\u001B[39m\u001B[38;5;241m5\u001B[39m) \u001B[38;5;241m&\u001B[39m (X\u001B[38;5;241m<\u001B[39m\u001B[38;5;241m5\u001B[39m))\u001B[38;5;241m.\u001B[39msum()\u001B[38;5;241m/\u001B[39mn\n\u001B[0;32m     22\u001B[0m \u001B[38;5;28mprint\u001B[39m(\u001B[38;5;124mf\u001B[39m\u001B[38;5;124m\"\u001B[39m\u001B[38;5;124mThis is our empirical estimate of the given probability:\u001B[39m\u001B[38;5;132;01m{\u001B[39;00mp\u001B[38;5;132;01m}\u001B[39;00m\u001B[38;5;124m\"\u001B[39m)\n",
      "\u001B[1;31mAttributeError\u001B[0m: 'list' object has no attribute 'sum'"
     ]
    }
   ],
   "source": [
    "def bootStrap(data_vector):\n",
    "    U_disc = np.random.randint(0,len(data_vector),len(data_vector))\n",
    "    return [data_vector[u] for u in U_disc]\n",
    "\n",
    "n = len(samples)\n",
    "X_i = samples\n",
    "X_bar = []\n",
    "MSE_sample = []\n",
    "\n",
    "for r in range(100):\n",
    "    X_sample = bootStrap(X_i)\n",
    "    X_bar += [np.mean(X_sample)]\n",
    "    MSE_sample += [np.sum((np.array(X_sample) - np.mean(X_sample))**2)/n**2]\n",
    "\n",
    "\n",
    "mu = np.mean(X_bar)\n",
    "print(f\"This is the expectation of our MSE: {np.mean(MSE_sample)}\")\n",
    "\n",
    "\n",
    "X = (X_i.sum()/n - mu)\n",
    "p = ((X>-5) & (X<5)).sum()/n\n",
    "print(f\"This is our empirical estimate of the given probability:{p}\")"
   ],
   "metadata": {
    "collapsed": false,
    "pycharm": {
     "name": "#%%\n"
    }
   }
  },
  {
   "cell_type": "code",
   "execution_count": 130,
   "outputs": [],
   "source": [
    "def MetropolisHastingsMatrix(n_samples,g,hxy,hxy_sampler, sample_shape, x_start = 0):\n",
    "    samples = np.zeros(sample_shape)\n",
    "    x = x_start\n",
    "    for _ in range(n_samples):\n",
    "        y  = hxy_sampler(x)\n",
    "        P_x = g(x)\n",
    "        P_y = g(y)\n",
    "        P_xy = hxy(x,y)\n",
    "        P_yx = hxy(y,x)\n",
    "\n",
    "        if (np.random.uniform(0,1)<min(1,(P_y*P_yx)/(P_x*P_xy))):\n",
    "            x = y\n",
    "\n",
    "        samples[x[0],x[1]] += 1\n",
    "\n",
    "    return samples"
   ],
   "metadata": {
    "collapsed": false,
    "pycharm": {
     "name": "#%%\n"
    }
   }
  },
  {
   "cell_type": "code",
   "execution_count": 185,
   "outputs": [
    {
     "ename": "TypeError",
     "evalue": "'tuple' object does not support item assignment",
     "output_type": "error",
     "traceback": [
      "\u001B[1;31m---------------------------------------------------------------------------\u001B[0m",
      "\u001B[1;31mTypeError\u001B[0m                                 Traceback (most recent call last)",
      "Cell \u001B[1;32mIn[185], line 20\u001B[0m\n\u001B[0;32m     15\u001B[0m         P_is[i,j] \u001B[38;5;241m+\u001B[39m\u001B[38;5;241m=\u001B[39m g([i,j])\n\u001B[0;32m     17\u001B[0m P_is \u001B[38;5;241m=\u001B[39m np\u001B[38;5;241m.\u001B[39marray(P_is)\n\u001B[1;32m---> 20\u001B[0m samples \u001B[38;5;241m=\u001B[39m \u001B[43mMetropolisHastingsMatrix\u001B[49m\u001B[43m(\u001B[49m\u001B[38;5;241;43m100000\u001B[39;49m\u001B[43m,\u001B[49m\u001B[43m \u001B[49m\u001B[43mg\u001B[49m\u001B[43m,\u001B[49m\u001B[43m \u001B[49m\u001B[43mhxy\u001B[49m\u001B[43m,\u001B[49m\u001B[43m \u001B[49m\u001B[43mhxy_s\u001B[49m\u001B[43m,\u001B[49m\u001B[43m(\u001B[49m\u001B[38;5;241;43m11\u001B[39;49m\u001B[43m,\u001B[49m\u001B[38;5;241;43m11\u001B[39;49m\u001B[43m)\u001B[49m\u001B[43m,\u001B[49m\u001B[43m \u001B[49m\u001B[43mx_start\u001B[49m\u001B[43m \u001B[49m\u001B[38;5;241;43m=\u001B[39;49m\u001B[43m \u001B[49m\u001B[43m(\u001B[49m\u001B[38;5;241;43m0\u001B[39;49m\u001B[43m,\u001B[49m\u001B[38;5;241;43m0\u001B[39;49m\u001B[43m)\u001B[49m\u001B[43m)\u001B[49m\n\u001B[0;32m     23\u001B[0m sstats\u001B[38;5;241m.\u001B[39mchisquare(samples, f_exp\u001B[38;5;241m=\u001B[39mP_is)\n",
      "Cell \u001B[1;32mIn[134], line 14\u001B[0m, in \u001B[0;36mMetropolisHastingsMatrix\u001B[1;34m(n_samples, g, hxy, hxy_sampler, sample_shape, x_start)\u001B[0m\n\u001B[0;32m     11\u001B[0m P_yx \u001B[38;5;241m=\u001B[39m hxy(y,x)\n\u001B[0;32m     13\u001B[0m \u001B[38;5;28;01mif\u001B[39;00m (np\u001B[38;5;241m.\u001B[39mrandom\u001B[38;5;241m.\u001B[39muniform(\u001B[38;5;241m0\u001B[39m,\u001B[38;5;241m1\u001B[39m)\u001B[38;5;241m<\u001B[39m\u001B[38;5;28mmin\u001B[39m(\u001B[38;5;241m1\u001B[39m,(P_y\u001B[38;5;241m*\u001B[39mP_yx)\u001B[38;5;241m/\u001B[39m(P_x\u001B[38;5;241m*\u001B[39mP_xy))):\n\u001B[1;32m---> 14\u001B[0m     \u001B[43mx\u001B[49m\u001B[43m[\u001B[49m\u001B[38;5;241;43m0\u001B[39;49m\u001B[43m]\u001B[49m \u001B[38;5;241m=\u001B[39m y[\u001B[38;5;241m0\u001B[39m]\n\u001B[0;32m     16\u001B[0m y_j  \u001B[38;5;241m=\u001B[39m hxy_sampler(x)\n\u001B[0;32m     17\u001B[0m y \u001B[38;5;241m=\u001B[39m [x[\u001B[38;5;241m0\u001B[39m],y_j]\n",
      "\u001B[1;31mTypeError\u001B[0m: 'tuple' object does not support item assignment"
     ]
    }
   ],
   "source": [
    "samples = []\n",
    "n_samples = 1000\n",
    "m = 10\n",
    "A = 8.0\n",
    "\n",
    "hxy_s = lambda A: np.random.randint(0,m+1)\n",
    "hxy = lambda A,B: 1\n",
    "g = lambda A: truncatePoiss(4,A[0])*truncatePoiss(4,A[1]) if 0<= A[0]+A[1] <= m else 0\n",
    "\n",
    "\n",
    "P_is = np.zeros((m+1,m+1))\n",
    "\n",
    "for i in range(m+1):\n",
    "    for j in range(m+1):\n",
    "        P_is[i,j] += g([i,j])\n",
    "\n",
    "P_is = np.array(P_is)\n",
    "\n",
    "\n",
    "samples = MetropolisHastingsMatrix(100000, g, hxy, hxy_s,(11,11), x_start = (0,0))\n",
    "\n",
    "\n",
    "sstats.chisquare(samples, f_exp=P_is)"
   ],
   "metadata": {
    "collapsed": false,
    "pycharm": {
     "name": "#%%\n"
    }
   }
  },
  {
   "cell_type": "code",
   "execution_count": 18,
   "outputs": [],
   "source": [
    "def Gibbs(nr_samples, P_cond,j = 0, samples_shape = (11,11)):\n",
    "\n",
    "    samples = np.zeros(samples_shape)\n",
    "    for _ in range(nr_samples):\n",
    "\n",
    "        X = P_cond(j)\n",
    "        i = np.random.choice([i for i in range(len(X))],p=X)\n",
    "        X = P_cond(i)\n",
    "        j = np.random.choice([i for i in range(len(X))],p=X)\n",
    "        samples[i,j] += 1\n",
    "\n",
    "    return samples\n",
    "\n",
    "m = 10\n",
    "def P_cond(j):\n",
    "    X = []\n",
    "    denominator = 0\n",
    "\n",
    "    for x in range(m - j + 1):\n",
    "        denominator += truncatePoiss(4,x)\n",
    "\n",
    "    for i in range(m - j + 1):\n",
    "        X += [truncatePoiss(4,i)/denominator]\n",
    "\n",
    "    return X\n",
    "\n",
    "samples_gibbs = Gibbs(100000,P_cond)\n",
    "P_empir_gibbs = samples_gibbs"
   ],
   "metadata": {
    "collapsed": false,
    "pycharm": {
     "name": "#%%\n"
    }
   }
  }
 ],
 "metadata": {
  "kernelspec": {
   "display_name": "Python 3",
   "language": "python",
   "name": "python3"
  },
  "language_info": {
   "codemirror_mode": {
    "name": "ipython",
    "version": 2
   },
   "file_extension": ".py",
   "mimetype": "text/x-python",
   "name": "python",
   "nbconvert_exporter": "python",
   "pygments_lexer": "ipython2",
   "version": "2.7.6"
  }
 },
 "nbformat": 4,
 "nbformat_minor": 0
}