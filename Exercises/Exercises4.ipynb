{
 "cells": [
  {
   "cell_type": "code",
   "execution_count": 26,
   "metadata": {
    "collapsed": true,
    "pycharm": {
     "name": "#%%\n"
    }
   },
   "outputs": [],
   "source": [
    "import numpy as np\n",
    "import scipy.stats as sstats\n",
    "import RNG.Distributions as rngd\n",
    "import matplotlib.pyplot as plt\n",
    "import EventByEvent.DiscreteSim as ds\n",
    "import EventByEvent.VarianceReduction as vr"
   ]
  },
  {
   "cell_type": "markdown",
   "source": [
    "### Exercise 5 Task 1):\n",
    "\n",
    "We use the Crude Monte Carlo method on 100 samples and get a value of approx. 1.69-1.7\n",
    "\n",
    "We are able to get means far away from the true mean 1.718...."
   ],
   "metadata": {
    "collapsed": false,
    "pycharm": {
     "name": "#%% md\n"
    }
   }
  },
  {
   "cell_type": "code",
   "execution_count": 27,
   "outputs": [
    {
     "name": "stdout",
     "output_type": "stream",
     "text": [
      "1.743093698949914\n"
     ]
    }
   ],
   "source": [
    "U1 = np.random.uniform(0,1,100)\n",
    "X = np.exp(U1)\n",
    "print(np.mean(X))"
   ],
   "metadata": {
    "collapsed": false,
    "pycharm": {
     "name": "#%%\n"
    }
   }
  },
  {
   "cell_type": "markdown",
   "source": [
    "### Exercise 5 Task 2)\n",
    "\n",
    "All of the means we've observed have the first three numbers of 1.71"
   ],
   "metadata": {
    "collapsed": false,
    "pycharm": {
     "name": "#%% md\n"
    }
   }
  },
  {
   "cell_type": "code",
   "execution_count": 28,
   "outputs": [
    {
     "name": "stdout",
     "output_type": "stream",
     "text": [
      "1.7130213350747305\n"
     ]
    }
   ],
   "source": [
    "X_prime = np.exp(1-U1)\n",
    "Y = (X+X_prime)/2\n",
    "print(np.mean(Y))"
   ],
   "metadata": {
    "collapsed": false,
    "pycharm": {
     "name": "#%%\n"
    }
   }
  },
  {
   "cell_type": "markdown",
   "source": [
    "### Exercise 5 Task 3)\n",
    "\n",
    "\n",
    "We have a Y whose mean we know, and we would like to be able to estimate the mean of X, which we do not.\n",
    "\n",
    "We set $Z = X + c \\times (Y - \\mu_{y})$, such that $E[Z] = E[X] + C*(0) = E[X]$\n",
    "\n",
    "But we choose a c, to minimize the variance of Z:\n",
    "\n",
    "$Var[Z] = Var[X] + c^{2}Var[Y] + 2cCov(X,y)$\n",
    "\n",
    "Which gives us\n",
    "\n",
    "$c = \\frac{Cov(x,y)}{Var[Y]}$ which in total gives us that the variance of Z to be:\n",
    "\n",
    "$Var[Z] = Var[X] - \\frac{Cov(x,y)^2}{Var[Y]} \\leq Var[X]$\n",
    "\n",
    "Where $Y ~ U(0,1)$ in our case\n"
   ],
   "metadata": {
    "collapsed": false,
    "pycharm": {
     "name": "#%% md\n"
    }
   }
  },
  {
   "cell_type": "code",
   "execution_count": 29,
   "outputs": [
    {
     "name": "stdout",
     "output_type": "stream",
     "text": [
      "1.7125271658669194\n"
     ]
    }
   ],
   "source": [
    "c = -1*np.cov(X,U1)[1,0]/np.var(U1)\n",
    "Z = X + c*(U1 - 1/2)\n",
    "print(np.mean(Z))"
   ],
   "metadata": {
    "collapsed": false,
    "pycharm": {
     "name": "#%%\n"
    }
   }
  },
  {
   "cell_type": "markdown",
   "source": [
    "# Exercise 5 Task 4)\n"
   ],
   "metadata": {
    "collapsed": false,
    "pycharm": {
     "name": "#%% md\n"
    }
   }
  },
  {
   "cell_type": "code",
   "execution_count": 30,
   "outputs": [
    {
     "name": "stdout",
     "output_type": "stream",
     "text": [
      "1.7204005214407616\n"
     ]
    }
   ],
   "source": [
    "Wi = np.zeros(10)\n",
    "for i in range(10):\n",
    "    Wi += np.exp(i/10+ U1[i*10:(i+1)*10]/10)\n",
    "Wi /= 10\n",
    "print(Wi.mean())"
   ],
   "metadata": {
    "collapsed": false,
    "pycharm": {
     "name": "#%%\n"
    }
   }
  },
  {
   "cell_type": "markdown",
   "source": [
    "Exercise 5 Task 5)\n",
    "\n",
    "We use the assumption that our proportions follow a standard normal distribution to do control variate method directly on these.\n",
    "\n",
    "We let $Z = X + c(\\bar{Y} -\\mu_{Y})$\n",
    "\n",
    "Here X = proportion of blocked customers and $\\bar{Y}$  is the empirical mean arrival time.\n",
    "\n",
    "We have that $\\mu_{\\bar{Y}} = E[\\bar{Y}] = E[Y]$ for large numbers of sample due to the law of large numbers.\n",
    "An assumption here is of course that the different runs are independent.\n"
   ],
   "metadata": {
    "collapsed": false,
    "pycharm": {
     "name": "#%% md\n"
    }
   }
  },
  {
   "cell_type": "code",
   "execution_count": 31,
   "outputs": [
    {
     "name": "stdout",
     "output_type": "stream",
     "text": [
      "\n",
      "Blocked C.I: [0.11795835945743974, 0.12742164054256028]\t Nr accepted in first run: 8787\n"
     ]
    },
    {
     "data": {
      "text/plain": "<Figure size 640x480 with 1 Axes>",
      "image/png": "[encoded data removed]"
     },
     "metadata": {},
     "output_type": "display_data"
    }
   ],
   "source": [
    "nrExperiments = 10\n",
    "subSamples = []\n",
    "m = 10\n",
    "lambda_S = 1/8 #Time between services\n",
    "lambda_A = 1 #Time between arrivals\n",
    "k_S = 2.00\n",
    "\n",
    "S_t = rngd.Exponential(lambda_S)\n",
    "A_t = rngd.Exponential(lambda_A)\n",
    "\n",
    "arrival_sample_for_plot = A_t.getSample(100000)\n",
    "plt.hist(arrival_sample_for_plot,bins=200)\n",
    "print(\"\")\n",
    "\n",
    "Y = []\n",
    "\n",
    "for i in range(nrExperiments):\n",
    "\n",
    "\n",
    "    servers = ds.BlockingServers(S_t,m)\n",
    "\n",
    "    nrArrivals = 10*1000\n",
    "\n",
    "    t = 0\n",
    "    event_list = []\n",
    "    Y_i = []\n",
    "    for i in range(nrArrivals):\n",
    "        sample_time = A_t.getSample()[0]\n",
    "        t += sample_time\n",
    "        Y_i += [sample_time]\n",
    "        event_list += [t]\n",
    "\n",
    "    blockingCounter = []\n",
    "\n",
    "    for t_A in event_list:\n",
    "        blockingCounter += [(t_A,servers.scheduleService(t_A))]\n",
    "\n",
    "    subSamples += [blockingCounter]\n",
    "    Y += [Y_i]\n",
    "\n",
    "\n",
    "proportions = ds.getSubProportions(subSamples)\n",
    "Z = []\n",
    "\n",
    "for i,Yi in enumerate(Y):\n",
    "    Z += vr.controlVariable(proportions[i],np.mean(Yi),lambda_A)\n",
    "\n",
    "\n",
    "CI = ds.getConfidenceInterval(proportions)\n",
    "\n",
    "print(f\"Blocked C.I: {CI}\\t Nr accepted in first run: {ds.getNrBlocked(subSamples[0]).count(0)}\")"
   ],
   "metadata": {
    "collapsed": false,
    "pycharm": {
     "name": "#%%\n"
    }
   }
  },
  {
   "cell_type": "markdown",
   "source": [
    "# Exercise 5 Task 6)\n",
    "\n",
    "a) Arrival times\n",
    "\n",
    "It is not possible to write our arrival times sampling in the form of $G_1(U_1, U_2 ,...)$ and $G_1(U_1, U_2 ,...)$, because we use 2 random numbers per arrival time in the hyperexponential case.\n",
    "\n",
    "Instead, we decide to generate a new u for deciding which exponential distribution to use in the hyperexponential and then use the same U to generate the exponentially distributed arrival time in both systems. This way, we ensure, that when the first exponential distribution is high, the second is also high (relative to the distribution that was chosen,) thereby comparing the two more equally.\n",
    "\n",
    "b) Processing Times\n",
    "\n",
    "We create a second set of randomly generated numbers that we use in both systems to draw processing times\n",
    "\n",
    "Finally we get a variance much smaller than 1 between the two systems."
   ],
   "metadata": {
    "collapsed": false,
    "pycharm": {
     "name": "#%% md\n"
    }
   }
  },
  {
   "cell_type": "code",
   "execution_count": 40,
   "outputs": [],
   "source": [
    "nrExperiments = 10\n",
    "nrArrivals = 10*1000\n",
    "\n",
    "U = [np.random.uniform(0,1,nrArrivals*5) for x in range(nrExperiments)]\n",
    "U_A = [np.random.uniform(0,1,nrArrivals*5) for x in range(nrExperiments)]\n",
    "\n",
    "S_t1 = rngd.Exponential(lambda_S)\n",
    "S_t2 = rngd.MixtureModel([(0.8,rngd.Exponential(0.8333)),(0.2,rngd.Exponential(5.0))])\n",
    "\n",
    "A_t = rngd.Exponential(lambda_A)\n",
    "\n",
    "S1 = [rngd.PredefinedModel(S_t1.getSampleU(U[i])) for i in range(nrExperiments)]\n",
    "S2 = [rngd.PredefinedModel(S_t2.getSampleU(U[i])) for i in range(nrExperiments)]"
   ],
   "metadata": {
    "collapsed": false,
    "pycharm": {
     "name": "#%%\n"
    }
   }
  },
  {
   "cell_type": "code",
   "execution_count": 41,
   "outputs": [],
   "source": [
    "A = [rngd.PredefinedModel(A_t.getSampleU(U_A[i])) for i in range(nrExperiments)]"
   ],
   "metadata": {
    "collapsed": false,
    "pycharm": {
     "name": "#%%\n"
    }
   }
  },
  {
   "cell_type": "code",
   "execution_count": 42,
   "outputs": [
    {
     "name": "stdout",
     "output_type": "stream",
     "text": [
      "\n",
      "Blocked C.I: [0.11795835945743974, 0.12742164054256028]\t Nr accepted in first run: 8702\n"
     ]
    },
    {
     "data": {
      "text/plain": "<Figure size 640x480 with 1 Axes>",
      "image/png": "[encoded data removed]"
     },
     "metadata": {},
     "output_type": "display_data"
    }
   ],
   "source": [
    "\n",
    "subSamples = []\n",
    "m = 10\n",
    "lambda_S = 1/8 #Time between services\n",
    "lambda_A = 1 #Time between arrivals\n",
    "k_S = 2.00\n",
    "\n",
    "\n",
    "\n",
    "arrival_sample_for_plot = A_t.getSample(100000)\n",
    "plt.hist(arrival_sample_for_plot,bins=200)\n",
    "print(\"\")\n",
    "\n",
    "Y = []\n",
    "\n",
    "for i in range(nrExperiments):\n",
    "\n",
    "\n",
    "    servers = ds.BlockingServers(S1[i],m)\n",
    "\n",
    "\n",
    "    t = 0\n",
    "    event_list = []\n",
    "    Y_i = []\n",
    "    for j in range(nrArrivals):\n",
    "        sample_time = A[i].getSample()[0]\n",
    "        t += sample_time\n",
    "        Y_i += [sample_time]\n",
    "        event_list += [t]\n",
    "\n",
    "    blockingCounter = []\n",
    "\n",
    "    for t_A in event_list:\n",
    "        blockingCounter += [(t_A,servers.scheduleService(t_A))]\n",
    "\n",
    "    subSamples += [blockingCounter]\n",
    "    Y += [Y_i]\n",
    "\n",
    "\n",
    "proportions_1 = ds.getSubProportions(subSamples)\n",
    "\n",
    "CI = ds.getConfidenceInterval(proportions)\n",
    "\n",
    "print(f\"Blocked C.I: {CI}\\t Nr accepted in first run: {ds.getNrBlocked(subSamples[0]).count(0)}\")"
   ],
   "metadata": {
    "collapsed": false,
    "pycharm": {
     "name": "#%%\n"
    }
   }
  },
  {
   "cell_type": "code",
   "execution_count": 43,
   "outputs": [],
   "source": [
    "A = [rngd.PredefinedModel(A_t.getSampleU(U_A[i])) for i in range(nrExperiments)]"
   ],
   "metadata": {
    "collapsed": false,
    "pycharm": {
     "name": "#%%\n"
    }
   }
  },
  {
   "cell_type": "code",
   "execution_count": 44,
   "outputs": [
    {
     "name": "stdout",
     "output_type": "stream",
     "text": [
      "\n",
      "Blocked C.I: [0.11795835945743974, 0.12742164054256028]\t Nr accepted in first run: 10000\n"
     ]
    },
    {
     "data": {
      "text/plain": "<Figure size 640x480 with 1 Axes>",
      "image/png": "[encoded data removed]"
     },
     "metadata": {},
     "output_type": "display_data"
    }
   ],
   "source": [
    "\n",
    "subSamples = []\n",
    "m = 10\n",
    "lambda_S = 1/8 #Time between services\n",
    "lambda_A = 1 #Time between arrivals\n",
    "k_S = 2.00\n",
    "\n",
    "\n",
    "\n",
    "arrival_sample_for_plot = A_t.getSample(100000)\n",
    "plt.hist(arrival_sample_for_plot,bins=200)\n",
    "print(\"\")\n",
    "\n",
    "Y = []\n",
    "\n",
    "for i in range(nrExperiments):\n",
    "\n",
    "\n",
    "    servers = ds.BlockingServers(S2[i],m)\n",
    "\n",
    "\n",
    "    t = 0\n",
    "    event_list = []\n",
    "    Y_i = []\n",
    "    for j in range(nrArrivals):\n",
    "        sample_time = A[i].getSample()[0]\n",
    "        t += sample_time\n",
    "        Y_i += [sample_time]\n",
    "        event_list += [t]\n",
    "\n",
    "    blockingCounter = []\n",
    "\n",
    "    for t_A in event_list:\n",
    "        blockingCounter += [(t_A,servers.scheduleService(t_A))]\n",
    "\n",
    "    subSamples += [blockingCounter]\n",
    "    Y += [Y_i]\n",
    "\n",
    "\n",
    "proportions_2 = ds.getSubProportions(subSamples)\n",
    "\n",
    "CI = ds.getConfidenceInterval(proportions)\n",
    "\n",
    "print(f\"Blocked C.I: {CI}\\t Nr accepted in first run: {ds.getNrBlocked(subSamples[0]).count(0)}\")"
   ],
   "metadata": {
    "collapsed": false,
    "pycharm": {
     "name": "#%%\n"
    }
   }
  },
  {
   "cell_type": "code",
   "execution_count": 45,
   "outputs": [
    {
     "name": "stdout",
     "output_type": "stream",
     "text": [
      "1.3260900000000009e-05\n"
     ]
    }
   ],
   "source": [
    "print(np.var(np.array(proportions_2) - np.array(proportions_1)))"
   ],
   "metadata": {
    "collapsed": false,
    "pycharm": {
     "name": "#%%\n"
    }
   }
  },
  {
   "cell_type": "markdown",
   "source": [
    "# Exercise 5 Task 7)\n",
    "\n",
    "We would like to calculate\n",
    "\n",
    "$P(Z>a) = \\int_{-\\infty}^{\\infty} f(x) I_{x>a} dx = E[Z>a]$\n",
    "\n",
    "This is approximated by sampling from a normal distribution and calculating the proportion of values above a.\n",
    "\n",
    "We can see, that we approximate the true value quite well, as we get a total of 5% of the mass being above and below 1.96 standard deviations from the mean for $\\sigma = 1$.\n",
    "\n",
    "But the higher we raise $\\sigma$ the further away we are from the true distribution. This is expected, as for low variance, if we sample a value and put a certain range around it with a given size, we're bound to capture a bigger part of the variation in values relative to their percentage of occuring, than with a high variance.\n",
    "\n",
    "I.e the values are more clustered together for smaller $\\sigma$."
   ],
   "metadata": {
    "collapsed": false,
    "pycharm": {
     "name": "#%% md\n"
    }
   }
  },
  {
   "cell_type": "code",
   "execution_count": 46,
   "outputs": [
    {
     "name": "stdout",
     "output_type": "stream",
     "text": [
      "Probability of getting Z>-1.96: 0.9734\n",
      "Probability of getting Z>0: 0.5032\n",
      "Probability of getting Z>1.96: 0.0259\n"
     ]
    }
   ],
   "source": [
    "Z_samples = 10000\n",
    "sigma = 1\n",
    "Z = np.random.normal(0,sigma*sigma,Z_samples)\n",
    "for a in [-1.96*sigma,0,1.96*sigma]:\n",
    "    print(f\"Probability of getting Z>{a}: {(Z > a).sum()/Z_samples}\")"
   ],
   "metadata": {
    "collapsed": false,
    "pycharm": {
     "name": "#%%\n"
    }
   }
  },
  {
   "cell_type": "markdown",
   "source": [
    "# Exercise Task 8)\n",
    "\n",
    "We start by solving for the variance of $Z = \\frac{h(X)f(X)}{g(X)}$ and then we derive a numerical solution for the minimum.\n",
    "\n",
    "$Var[\\frac{h(X)f(X)}{g(X)}] = E_G[(\\frac{h(X)f(X)}{g(X)})^2] - E_G[\\frac{h(X)f(X)}{g(X)}]^2$\n",
    "\n",
    "As $h(X) = I_{0<=x<=1}$ we get that the integral goes from 0 to 1\n",
    "\n",
    "$E_G[(\\frac{h(X)f(X)}{g(X)})^2] = \\int_{0}^{1} \\frac{e^{2x(\\lambda + 1)}}{\\lambda^2} dx - (\\int_{0}^{1} \\frac{e^{x(\\lambda + 1)}}{\\lambda} dx)^2$\n",
    "\n",
    "Which results in\n",
    "\n",
    "$Var[Z] = \\frac{-1 + e^{\\lambda+2}}{(\\lambda + 2)\\lambda} - (-1 + e)^2$\n",
    "\n",
    "Solving for $\\lambda$ numerically we arrive at: $\\lambda \\approx 1.35$"
   ],
   "metadata": {
    "collapsed": false,
    "pycharm": {
     "name": "#%% md\n"
    }
   }
  },
  {
   "cell_type": "code",
   "execution_count": 47,
   "outputs": [
    {
     "name": "stdout",
     "output_type": "stream",
     "text": [
      "Best lambda value: 1.3547554755475548\n"
     ]
    },
    {
     "data": {
      "text/plain": "<Figure size 640x480 with 1 Axes>",
      "image/png": "[encoded data removed]"
     },
     "metadata": {},
     "output_type": "display_data"
    }
   ],
   "source": [
    "from scipy.optimize import minimize\n",
    "_lambda = np.linspace(0.1,4,10000)\n",
    "V_Z_left = (-1 + np.exp(_lambda + 2))/((_lambda +2)*_lambda)\n",
    "V_Z_right = ((-1+np.exp(1))**2)\n",
    "V_Z = V_Z_left - V_Z_right\n",
    "plt.plot(_lambda,V_Z)\n",
    "print(f\"Best lambda value: {_lambda[np.argmin(V_Z)]}\")"
   ],
   "metadata": {
    "collapsed": false,
    "pycharm": {
     "name": "#%%\n"
    }
   }
  },
  {
   "cell_type": "markdown",
   "source": [
    "## Exercise 5 Task 9)\n",
    "\n",
    "We have that\n",
    "\n",
    "$\\Theta = E[h(X)] =  E[ \\frac{h(Y)f(Y)}{g(Y)} ]$\n",
    "If we let $h(X) = X$ we get $E[h(X)] = E[X]$.\n",
    "\n",
    "Solving for this, we get\n",
    "\n",
    "$E[ \\frac{h(Y)f(Y)}{g(Y)} ] = E[E[X]]$ which tells us, that the expectation is the expectation of the expectation, which is just the expectation, since the expectation is a constant, and the expectation of a constant is the constant itself, which in this case, is the expectation.\n",
    "\n",
    "This conclusion whether or not this is meaningful is clearly no; In order to sample from the expectation, we would need the expectation to begin with.\n",
    "\n",
    "It could be done in general, if we generally speaking have the expectation beforehand.\n"
   ],
   "metadata": {
    "collapsed": false,
    "pycharm": {
     "name": "#%% md\n"
    }
   }
  },
  {
   "cell_type": "markdown",
   "source": [
    "## Task 9 - part 2 - Related to question 8)\n",
    "\n",
    "What we can do is set $g(x) = \\frac{e^{x}}{E[X]}$\n",
    "\n",
    "Putting this into the equation\n",
    "\n",
    "$\\Theta = E[I_{0<=x<=1}] =  E_g[ \\frac{I_{0<=x<=1}e^{x}E[X]}{e^{x}} ]$\n",
    "\n",
    "We know that $E[X] = 1$ so we have\n",
    "\n",
    "$\\Theta = \\int_{0}^{1} \\frac{e^{x}}{e^{x}} \\times \\frac{e^{x}}{E[X]} dx $\n",
    "\n",
    "Which finally equals our wanted integral:\n",
    "\n",
    "$\\Theta = \\int_{0}^{1} e^{x} dx$\n",
    "\n",
    "Much more importantly, we see that the variance of the following expression equals 0:\n",
    "\n",
    "$Var[\\frac{h(Y)f(Y)}{g(Y)} ] = Var[1] = 0$"
   ],
   "metadata": {
    "collapsed": false,
    "pycharm": {
     "name": "#%% md\n"
    }
   }
  }
 ],
 "metadata": {
  "kernelspec": {
   "display_name": "Python 3",
   "language": "python",
   "name": "python3"
  },
  "language_info": {
   "codemirror_mode": {
    "name": "ipython",
    "version": 2
   },
   "file_extension": ".py",
   "mimetype": "text/x-python",
   "name": "python",
   "nbconvert_exporter": "python",
   "pygments_lexer": "ipython2",
   "version": "2.7.6"
  }
 },
 "nbformat": 4,
 "nbformat_minor": 0
}