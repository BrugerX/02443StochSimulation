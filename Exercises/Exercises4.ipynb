{
 "cells": [
  {
   "cell_type": "code",
   "execution_count": 1,
   "metadata": {
    "collapsed": true,
    "pycharm": {
     "name": "#%%\n"
    }
   },
   "outputs": [],
   "source": [
    "import numpy as np\n",
    "import scipy.stats as sstats\n",
    "import RNG.Distributions as rngd\n",
    "import matplotlib.pyplot as plt\n",
    "import EventByEvent.DiscreteSim as ds\n",
    "import EventByEvent.VarianceReduction as vr"
   ]
  },
  {
   "cell_type": "markdown",
   "source": [
    "### Exercise 5 Task 1):\n",
    "\n",
    "We use the Crude Monte Carlo method on 100 samples and get a value of approx. 1.69-1.7\n",
    "\n",
    "We are able to get means far away from the true mean 1.718...."
   ],
   "metadata": {
    "collapsed": false,
    "pycharm": {
     "name": "#%% md\n"
    }
   }
  },
  {
   "cell_type": "code",
   "execution_count": 2,
   "outputs": [
    {
     "name": "stdout",
     "output_type": "stream",
     "text": [
      "1.7413359813888942\n"
     ]
    }
   ],
   "source": [
    "U1 = np.random.uniform(0,1,100)\n",
    "X = np.exp(U1)\n",
    "print(np.mean(X))"
   ],
   "metadata": {
    "collapsed": false,
    "pycharm": {
     "name": "#%%\n"
    }
   }
  },
  {
   "cell_type": "markdown",
   "source": [
    "### Exercise 5 Task 2)\n",
    "\n",
    "All of the means we've observed have the first three numbers of 1.71"
   ],
   "metadata": {
    "collapsed": false,
    "pycharm": {
     "name": "#%% md\n"
    }
   }
  },
  {
   "cell_type": "code",
   "execution_count": 3,
   "outputs": [
    {
     "name": "stdout",
     "output_type": "stream",
     "text": [
      "1.7275387611743165\n"
     ]
    }
   ],
   "source": [
    "X_prime = np.exp(1-U1)\n",
    "Y = (X+X_prime)/2\n",
    "print(np.mean(Y))"
   ],
   "metadata": {
    "collapsed": false,
    "pycharm": {
     "name": "#%%\n"
    }
   }
  },
  {
   "cell_type": "markdown",
   "source": [
    "### Exercise 5 Task 3)\n",
    "\n",
    "\n",
    "We have a Y whose mean we know, and we would like to be able to estimate the mean of X, which we do not.\n",
    "\n",
    "We set $Z = X + c \\times (Y - \\mu_{y})$, such that $E[Z] = E[X] + C*(0) = E[X]$\n",
    "\n",
    "But we choose a c, to minimize the variance of Z:\n",
    "\n",
    "$Var[Z] = Var[X] + c^{2}Var[Y] + 2cCov(X,y)$\n",
    "\n",
    "Which gives us\n",
    "\n",
    "$c = \\frac{Cov(x,y)}{Var[Y]}$ which in total gives us that the variance of Z to be:\n",
    "\n",
    "$Var[Z] = Var[X] - \\frac{Cov(x,y)^2}{Var[Y]} \\leq Var[X]$\n",
    "\n",
    "Where $Y ~ U(0,1)$ in our case\n"
   ],
   "metadata": {
    "collapsed": false,
    "pycharm": {
     "name": "#%% md\n"
    }
   }
  },
  {
   "cell_type": "code",
   "execution_count": 4,
   "outputs": [
    {
     "name": "stdout",
     "output_type": "stream",
     "text": [
      "1.7278554786600344\n"
     ]
    }
   ],
   "source": [
    "c = -1*np.cov(X,U1)[1,0]/np.var(U1)\n",
    "Z = X + c*(U1 - 1/2)\n",
    "print(np.mean(Z))"
   ],
   "metadata": {
    "collapsed": false,
    "pycharm": {
     "name": "#%%\n"
    }
   }
  },
  {
   "cell_type": "markdown",
   "source": [
    "Exercise 5 Task 4)\n"
   ],
   "metadata": {
    "collapsed": false,
    "pycharm": {
     "name": "#%% md\n"
    }
   }
  },
  {
   "cell_type": "code",
   "execution_count": 5,
   "outputs": [
    {
     "name": "stdout",
     "output_type": "stream",
     "text": [
      "1.7198145150395987\n"
     ]
    }
   ],
   "source": [
    "Wi = np.zeros(10)\n",
    "for i in range(10):\n",
    "    Wi += np.exp(i/10+ U1[i*10:(i+1)*10]/10)\n",
    "Wi /= 10\n",
    "print(Wi.mean())"
   ],
   "metadata": {
    "collapsed": false,
    "pycharm": {
     "name": "#%%\n"
    }
   }
  },
  {
   "cell_type": "markdown",
   "source": [
    "Exercise 5 Task 5)\n",
    "\n",
    "We use the assumption that our proportions follow a standard normal distribution to do control variate method directly on these.\n",
    "\n",
    "We let $Z = X + c(\\bar{Y} -\\mu_{Y})$\n",
    "\n",
    "Here X = proportion of blocked customers and $\\bar{Y}$  is the empirical mean arrival time.\n",
    "\n",
    "We have that $mu_{\\bar{Y}} = E[\\bar{Y}] = E[Y]$ for large numbers of samples due to the law of large numbers.\n",
    "An assumption here is of course that the different runs are independent.\n"
   ],
   "metadata": {
    "collapsed": false,
    "pycharm": {
     "name": "#%% md\n"
    }
   }
  },
  {
   "cell_type": "code",
   "execution_count": 6,
   "outputs": [
    {
     "name": "stdout",
     "output_type": "stream",
     "text": [
      "\n",
      "Blocked C.I: [0.11797602803075714, 0.12424397196924288]\t Nr accepted in first run: 8787\n"
     ]
    },
    {
     "name": "stderr",
     "output_type": "stream",
     "text": [
      "C:\\Users\\DripTooHard\\PycharmProjects\\02443StochSimulation\\EventByEvent\\VarianceReduction.py:4: RuntimeWarning: Degrees of freedom <= 0 for slice\n",
      "  c = -1 * np.cov(X, Y)[1, 0] / np.var(Y)\n",
      "C:\\Users\\DripTooHard\\AppData\\Local\\Programs\\Python\\Python310\\lib\\site-packages\\numpy\\lib\\function_base.py:2704: RuntimeWarning: divide by zero encountered in divide\n",
      "  c *= np.true_divide(1, fact)\n",
      "C:\\Users\\DripTooHard\\AppData\\Local\\Programs\\Python\\Python310\\lib\\site-packages\\numpy\\lib\\function_base.py:2704: RuntimeWarning: invalid value encountered in multiply\n",
      "  c *= np.true_divide(1, fact)\n"
     ]
    },
    {
     "data": {
      "text/plain": "<Figure size 640x480 with 1 Axes>",
      "image/png": "[encoded data removed]"
     },
     "metadata": {},
     "output_type": "display_data"
    }
   ],
   "source": [
    "nrExperiments = 10\n",
    "subSamples = []\n",
    "m = 10\n",
    "lambda_S = 1/8 #Time between services\n",
    "lambda_A = 1 #Time between arrivals\n",
    "k_S = 2.00\n",
    "\n",
    "S_t = rngd.Exponential(lambda_S)\n",
    "A_t = rngd.Exponential(lambda_A)\n",
    "\n",
    "arrival_sample_for_plot = A_t.getSample(100000)\n",
    "plt.hist(arrival_sample_for_plot,bins=200)\n",
    "print(\"\")\n",
    "\n",
    "Y = []\n",
    "\n",
    "for i in range(nrExperiments):\n",
    "\n",
    "\n",
    "    servers = ds.BlockingServers(S_t,m)\n",
    "\n",
    "    nrArrivals = 10*1000\n",
    "\n",
    "    t = 0\n",
    "    event_list = []\n",
    "    Y_i = []\n",
    "    for i in range(nrArrivals):\n",
    "        sample_time = A_t.getSample()[0]\n",
    "        t += sample_time\n",
    "        Y_i += [sample_time]\n",
    "        event_list += [t]\n",
    "\n",
    "    blockingCounter = []\n",
    "\n",
    "    for t_A in event_list:\n",
    "        blockingCounter += [(t_A,servers.scheduleService(t_A))]\n",
    "\n",
    "    subSamples += [blockingCounter]\n",
    "    Y += [Y_i]\n",
    "\n",
    "\n",
    "proportions = ds.getSubProportions(subSamples)\n",
    "Z = []\n",
    "\n",
    "for i,Yi in enumerate(Y):\n",
    "    Z += vr.controlVariable(proportions[i],np.mean(Yi),lambda_A)\n",
    "\n",
    "\n",
    "CI = ds.getConfidenceInterval(proportions)\n",
    "\n",
    "print(f\"Blocked C.I: {CI}\\t Nr accepted in first run: {ds.getNrBlocked(subSamples[0]).count(0)}\")"
   ],
   "metadata": {
    "collapsed": false,
    "pycharm": {
     "name": "#%%\n"
    }
   }
  },
  {
   "cell_type": "code",
   "execution_count": 7,
   "outputs": [
    {
     "name": "stdout",
     "output_type": "stream",
     "text": [
      "\n",
      "Blocked C.I: [0.11797602803075714, 0.12424397196924288]\t Nr accepted in first run: 8757\n"
     ]
    },
    {
     "data": {
      "text/plain": "<Figure size 640x480 with 1 Axes>",
      "image/png": "[encoded data removed]"
     },
     "metadata": {},
     "output_type": "display_data"
    }
   ],
   "source": [
    "nrExperiments = 10\n",
    "subSamples = []\n",
    "m = 10\n",
    "lambda_S = 1/8 #Time between services\n",
    "lambda_A = 1 #Time between arrivals\n",
    "k_S = 2.00\n",
    "\n",
    "\n",
    "\n",
    "S_t = rngd.Exponential(lambda_S)\n",
    "A_t = rngd.Exponential(lambda_A)\n",
    "\n",
    "arrival_sample_for_plot = A_t.getSample(100000)\n",
    "plt.hist(arrival_sample_for_plot,bins=200)\n",
    "print(\"\")\n",
    "\n",
    "Y = []\n",
    "\n",
    "for i in range(nrExperiments):\n",
    "\n",
    "\n",
    "    servers = ds.BlockingServers(S_t,m)\n",
    "\n",
    "    nrArrivals = 10*1000\n",
    "\n",
    "    t = 0\n",
    "    event_list = []\n",
    "    Y_i = []\n",
    "    for i in range(nrArrivals):\n",
    "        sample_time = A_t.getSample()[0]\n",
    "        t += sample_time\n",
    "        Y_i += [sample_time]\n",
    "        event_list += [t]\n",
    "\n",
    "    blockingCounter = []\n",
    "\n",
    "    for t_A in event_list:\n",
    "        blockingCounter += [(t_A,servers.scheduleService(t_A))]\n",
    "\n",
    "    subSamples += [blockingCounter]\n",
    "    Y += [Y_i]\n",
    "\n",
    "\n",
    "proportions_1 = ds.getSubProportions(subSamples)\n",
    "\n",
    "CI = ds.getConfidenceInterval(proportions)\n",
    "\n",
    "print(f\"Blocked C.I: {CI}\\t Nr accepted in first run: {ds.getNrBlocked(subSamples[0]).count(0)}\")"
   ],
   "metadata": {
    "collapsed": false,
    "pycharm": {
     "name": "#%%\n"
    }
   }
  }
 ],
 "metadata": {
  "kernelspec": {
   "display_name": "Python 3",
   "language": "python",
   "name": "python3"
  },
  "language_info": {
   "codemirror_mode": {
    "name": "ipython",
    "version": 2
   },
   "file_extension": ".py",
   "mimetype": "text/x-python",
   "name": "python",
   "nbconvert_exporter": "python",
   "pygments_lexer": "ipython2",
   "version": "2.7.6"
  }
 },
 "nbformat": 4,
 "nbformat_minor": 0
}