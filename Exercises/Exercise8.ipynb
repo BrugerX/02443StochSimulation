{
 "cells": [
  {
   "cell_type": "code",
   "execution_count": 56,
   "metadata": {
    "collapsed": true,
    "pycharm": {
     "name": "#%%\n"
    }
   },
   "outputs": [],
   "source": [
    "import numpy as np\n",
    "from RNG.ContinuousRV import ParetoInverse"
   ]
  },
  {
   "cell_type": "markdown",
   "source": [
    "# Exercise 8 - task 1)\n",
    "\n",
    "The main issue with calculating the given probability is getting the unknown mean.\n",
    "\n",
    "We know that the expected value of our empirical CDF of our bootstrapped samples follows the unknown distribution, and we can therefore estimate this unknown mean using our empirical CDFs.\n",
    "\n",
    "After having derived a series of empirical means $\\bar{X}$, we know from the law of large numbers, that as the sample size tends to infinity $E[\\bar{X}] = E[X] = \\mu$.  We know that the MSE of the boostrapped estimation of the mean is the empirical variance over n-squared, so we will also print this.\n",
    "\n",
    "\n",
    "# Exercise 8 - task 2)\n",
    "\n",
    "See the code below."
   ],
   "metadata": {
    "collapsed": false,
    "pycharm": {
     "name": "#%% md\n"
    }
   }
  },
  {
   "cell_type": "code",
   "execution_count": 68,
   "outputs": [
    {
     "name": "stdout",
     "output_type": "stream",
     "text": [
      "This is the expectation of our MSE: 15.18222\n",
      "This is our empirical estimate of the given probability:0.1\n"
     ]
    }
   ],
   "source": [
    "def bootStrap(data_vector):\n",
    "    U_disc = np.random.randint(0,len(data_vector),len(data_vector))\n",
    "    return [data_vector[u] for u in U_disc]\n",
    "\n",
    "n = 10\n",
    "X_i = np.array([56,101,78,67,93,87,64,72,80,69])\n",
    "X_bar = []\n",
    "MSE_sample = []\n",
    "\n",
    "for r in range(100):\n",
    "    X_sample = bootStrap(X_i)\n",
    "    X_bar += [np.mean(X_sample)]\n",
    "    MSE_sample += [np.sum((np.array(X_sample) - np.mean(X_sample))**2)/n**2]\n",
    "\n",
    "\n",
    "mu = np.mean(X_bar)\n",
    "print(f\"This is the expectation of our MSE: {np.mean(MSE_sample)}\")\n",
    "\n",
    "\n",
    "X = (X_i.sum()/n - mu)\n",
    "p = ((X>-5) & (X<5)).sum()/n\n",
    "print(f\"This is our empirical estimate of the given probability:{p}\")"
   ],
   "metadata": {
    "collapsed": false,
    "pycharm": {
     "name": "#%%\n"
    }
   }
  },
  {
   "cell_type": "markdown",
   "source": [
    "# Exercise 8 - task 2)\n",
    "\n",
    "For each sample, we approximate a sample mean and based off of that we calculate a simple example of a sample variance.\n",
    "\n",
    "Then we take the expected value of the variance as our best estimate of the variance. We know that the sample variance is an unbiased estimator.\n",
    "\n"
   ],
   "metadata": {
    "collapsed": false,
    "pycharm": {
     "name": "#%% md\n"
    }
   }
  },
  {
   "cell_type": "code",
   "execution_count": 69,
   "outputs": [
    {
     "name": "stdout",
     "output_type": "stream",
     "text": [
      "Our best estimate of Var[X]: 49.137777777777785\n"
     ]
    }
   ],
   "source": [
    "X_i = [5,4,9,6,21,17,11,20,7,10,21,15,13,16,8]\n",
    "X_bar = []\n",
    "S_bar = []\n",
    "\n",
    "for r in range(100):\n",
    "    X_sample = bootStrap(X_i)\n",
    "    S_bar += [np.sum((np.array(X_sample) - np.mean(X_sample))**2)/(n-1)]\n",
    "\n",
    "print(f\"Our best estimate of Var[X]: {np.mean(S_bar)}\")"
   ],
   "metadata": {
    "collapsed": false,
    "pycharm": {
     "name": "#%%\n"
    }
   }
  },
  {
   "cell_type": "markdown",
   "source": [
    "# Exercise 8 - Task 3)\n",
    "\n",
    "Code and printouts should be sufficient."
   ],
   "metadata": {
    "collapsed": false,
    "pycharm": {
     "name": "#%% md\n"
    }
   }
  },
  {
   "cell_type": "code",
   "execution_count": 70,
   "outputs": [],
   "source": [
    "pareto_sample = ParetoInverse(np.random.uniform(0,1,200),1.05,1) # Pareto>=Beta\n",
    "sample_mean = np.mean(pareto_sample)\n",
    "theoretical_mean = 1*(1.05/(1.05-1))\n",
    "sample_med = np.median(pareto_sample)"
   ],
   "metadata": {
    "collapsed": false,
    "pycharm": {
     "name": "#%%\n"
    }
   }
  },
  {
   "cell_type": "code",
   "execution_count": 71,
   "outputs": [
    {
     "name": "stdout",
     "output_type": "stream",
     "text": [
      "Bootstrap estimate of Var[X_bar]: 7.641023635022513\n"
     ]
    }
   ],
   "source": [
    "X_bar = []\n",
    "MSE_sample = []\n",
    "\n",
    "for r in range(100):\n",
    "    X_sample = bootStrap(pareto_sample)\n",
    "    X_bar += [np.mean(X_sample)]\n",
    "    MSE_sample += [np.sum((np.array(X_sample) - np.mean(X_sample))**2)/n**2]\n",
    "\n",
    "print(f\"Bootstrap estimate of Var[X_bar]: {np.var(X_bar)}\")"
   ],
   "metadata": {
    "collapsed": false,
    "pycharm": {
     "name": "#%%\n"
    }
   }
  },
  {
   "cell_type": "code",
   "execution_count": 67,
   "outputs": [
    {
     "name": "stdout",
     "output_type": "stream",
     "text": [
      "Bootstrap estimate of Var[X_bar]: 0.013167737197817641\n"
     ]
    }
   ],
   "source": [
    "X_med = []\n",
    "MSE_sample = []\n",
    "\n",
    "for r in range(100):\n",
    "    X_sample = bootStrap(pareto_sample)\n",
    "    X_med += [np.median(X_sample)]\n",
    "    MSE_sample += [np.sum((np.array(X_sample) - np.mean(X_sample))**2)/n**2]\n",
    "\n",
    "print(f\"Bootstrap estimate of Var[X_bar]: {np.var(X_med)}\")"
   ],
   "metadata": {
    "collapsed": false,
    "pycharm": {
     "name": "#%%\n"
    }
   }
  },
  {
   "cell_type": "markdown",
   "source": [
    "# Task 3,d)\n",
    "\n",
    "We see that the variance of the mean is much larger than that of the median. We believe this is due to the way that the Pareto distribution is heavy-tailed, such that the median will typically be at around 0 or beta (depending on the domain of the distribution,) whereas the mean can vary quite a bit based off of which observations we see.\n",
    "\n",
    "That is, when we sample, we rarely see samples from the far right of the distribution's domain, so therefore if we do see such a sample in one of the bootstrapped samples, it will change the overall mean."
   ],
   "metadata": {
    "collapsed": false,
    "pycharm": {
     "name": "#%% md\n"
    }
   }
  },
  {
   "cell_type": "code",
   "execution_count": null,
   "outputs": [],
   "source": [],
   "metadata": {
    "collapsed": false,
    "pycharm": {
     "name": "#%%\n"
    }
   }
  }
 ],
 "metadata": {
  "kernelspec": {
   "display_name": "Python 3",
   "language": "python",
   "name": "python3"
  },
  "language_info": {
   "codemirror_mode": {
    "name": "ipython",
    "version": 2
   },
   "file_extension": ".py",
   "mimetype": "text/x-python",
   "name": "python",
   "nbconvert_exporter": "python",
   "pygments_lexer": "ipython2",
   "version": "2.7.6"
  }
 },
 "nbformat": 4,
 "nbformat_minor": 0
}